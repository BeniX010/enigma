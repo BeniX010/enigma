{
 "cells": [
  {
   "cell_type": "markdown",
   "id": "48e8cf6627f13be9",
   "metadata": {},
   "source": [
    "# (Einfache) Simulierung einer Turing Bombe\n",
    "Dieses Notebook dient dazu die Funktionsweise der Turing Bombe zu verstehen. Der Einfachheit halber, haben wir in diesem Beispiel darauf verzichtet ein Steckerbrett zu verwenden. \n",
    "Es ist aber jederzeit möglich dieses zu ergänzen (Für die neugierigen Leser)."
   ]
  },
  {
   "cell_type": "markdown",
   "id": "1d3a5176bfaa6214",
   "metadata": {},
   "source": [
    "Import der Module (notwendig)"
   ]
  },
  {
   "cell_type": "code",
   "id": "4137ca3085b03d7c",
   "metadata": {
    "jupyter": {
     "is_executing": true
    }
   },
   "source": [
    "from sagEnigma import Enigma\n",
    "import threading\n",
    "from queue import Queue"
   ],
   "outputs": [],
   "execution_count": null
  },
  {
   "cell_type": "markdown",
   "id": "9013233d22c78f70",
   "metadata": {},
   "source": [
    "Implementierung einer Enigma 1 ohne Steckerbrett. NB: Wir haben uns entschieden Multithreading zu nutzen, hierfür wird eine Queue mit einzelnen Aufgaben erstellt. Diese Aufgaben stellen das parallele Testen der Eingma Konfigurationen da."
   ]
  },
  {
   "cell_type": "code",
   "execution_count": 5,
   "id": "8dfe2945d37ae95d",
   "metadata": {
    "jupyter": {
     "is_executing": true
    }
   },
   "outputs": [],
   "source": [
    "class Bombe:\n",
    "    def __init__(self, max_wheel_val, max_position_val, max_reflector_val, crib, encrypted_word):\n",
    "        self.max_wheel_val = max_wheel_val\n",
    "        self.max_position_val = max_position_val\n",
    "        self.max_reflector_val = max_reflector_val\n",
    "        self.crib = crib\n",
    "        self.encrypted_word = encrypted_word\n",
    "        self.tasks = Queue()\n",
    "        self.fill_tasks()\n",
    "\n",
    "    def fill_tasks(self):\n",
    "        for wheel1 in range(1, self.max_wheel_val):\n",
    "            for wheel2 in range(1, self.max_wheel_val):\n",
    "                for wheel3 in range(1, self.max_wheel_val):\n",
    "                    for position1 in range(1, self.max_position_val):\n",
    "                        for position2 in range(1, self.max_position_val):\n",
    "                            for position3 in range(1, self.max_position_val):\n",
    "                                for offset1 in range(1, self.max_position_val):\n",
    "                                    for offset2 in range(1, self.max_position_val):\n",
    "                                        for offset3 in range(1, self.max_position_val):\n",
    "                                            for reflector in range(1, self.max_reflector_val):\n",
    "                                                self.tasks.put(\n",
    "                                                    [wheel1, wheel2, wheel3, position1, position2, position3,\n",
    "                                                     offset1, offset2, offset3, reflector])\n",
    "    def get_se_germans(self):\n",
    "        try:\n",
    "            while not self.tasks.empty():\n",
    "                enigma_config = self.tasks.get()\n",
    "                wheel_1, wheel_2, wheel_3, position_1, position_2, position_3, offset1, offset2, offset3, reflector = enigma_config\n",
    "                threaded_enigma = Enigma.create([wheel_1, wheel_2, wheel_3], [position_1, position_2, position_3],\n",
    "                                                [offset1, offset2, offset3], reflector)\n",
    "                decrypted_text = threaded_enigma.en_de_crypt(self.encrypted_word)\n",
    "                if decrypted_text == self.crib:\n",
    "                    print(f\"Decrypted Message: {decrypted_text}\")\n",
    "                    print(f\"One possible setting of the Day: {enigma_config} go get those Fritzes!\\n\")\n",
    "                self.tasks.task_done()\n",
    "        except Exception as e:\n",
    "            print(e)\n",
    "\n",
    "    def crack(self):\n",
    "        for _ in range(16):\n",
    "            threading.Thread(target=self.get_se_germans).start()\n",
    "        self.tasks.join()"
   ]
  },
  {
   "cell_type": "markdown",
   "id": "3fbdacc46a77cb65",
   "metadata": {},
   "source": [
    "Entschlüsselung: Mehrere Enigmas werden erstellt und probieren ob ihre Konfig das gewünschte Match aus bekanntem Wort und Cypher-Text enhält. Falls ja, wird die Config zurück gegeben."
   ]
  },
  {
   "cell_type": "markdown",
   "id": "eaba0a17785da720",
   "metadata": {},
   "source": [
    "Korrekter max_wheel_val = 6, max_position_val = 27, max_ukw_val = 4\n",
    "Um schneller testen zu können, ob die Bombe funktioniert haben wir die Werte nach unten gesetzt. Wer mehr Zeit hat, darf sie gerne auf den korrekten Wert setzen."
   ]
  },
  {
   "cell_type": "code",
   "execution_count": 6,
   "id": "cabb43848b03a468",
   "metadata": {},
   "outputs": [
    {
     "name": "stdout",
     "output_type": "stream",
     "text": [
      "Decrypted Message: HALLODecrypted Message: HALLO\n",
      "One possible setting of the Day: [1, 2, 2, 2, 1, 1, 2, 2, 2, 2] go get those Fritzes!\n",
      "\n",
      "\n",
      "One possible setting of the Day: [1, 2, 2, 1, 1, 1, 1, 2, 2, 2] go get those Fritzes!\n",
      "\n"
     ]
    }
   ],
   "source": [
    "bomber = Bombe(3,3,3, \"HALLO\", \"fuytv\")\n",
    "bomber.crack()"
   ]
  },
  {
   "cell_type": "code",
   "execution_count": null,
   "id": "c003d5b6",
   "metadata": {},
   "outputs": [],
   "source": []
  }
 ],
 "metadata": {
  "kernelspec": {
   "display_name": "Python 3 (ipykernel)",
   "language": "python",
   "name": "python3"
  },
  "language_info": {
   "codemirror_mode": {
    "name": "ipython",
    "version": 3
   },
   "file_extension": ".py",
   "mimetype": "text/x-python",
   "name": "python",
   "nbconvert_exporter": "python",
   "pygments_lexer": "ipython3",
   "version": "3.9.6"
  }
 },
 "nbformat": 4,
 "nbformat_minor": 5
}
