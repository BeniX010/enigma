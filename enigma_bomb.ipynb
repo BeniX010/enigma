{
 "cells": [
  {
   "cell_type": "markdown",
   "metadata": {},
   "source": [
    "## Notebook für die Implementation der Enigma-Bombe"
   ]
  },
  {
   "cell_type": "markdown",
   "metadata": {},
   "source": [
    "## Einleitung\n",
    "\n",
    "Der folgende Code beschreibt das aufsetzen einer Enigma und das Knacken einer verschlüsselten Nachricht. Die Enigma ist eine Verschlüsselungsmaschine, die im zweiten Weltkrieg von den Deutschen verwendet wurde. Die Enigma-Bombe ist ein Gerät, das dazu dient, die Enigma zu knacken."
   ]
  },
  {
   "cell_type": "code",
   "execution_count": 1,
   "metadata": {},
   "outputs": [],
   "source": [
    "# import from the local file enigma.py\n",
    "from sagEnigma import Enigma, Rotor, Reflector"
   ]
  },
  {
   "cell_type": "markdown",
   "metadata": {},
   "source": [
    "### 0. Setup der Enigma "
   ]
  },
  {
   "cell_type": "code",
   "execution_count": 13,
   "metadata": {},
   "outputs": [
    {
     "data": {
      "text/plain": [
       "'GCIID'"
      ]
     },
     "execution_count": 13,
     "metadata": {},
     "output_type": "execute_result"
    }
   ],
   "source": [
    "rotor1 = Rotor([21, 25, 1, 17, 6, 8, 19, 24, 20, 15, 18, 3, 13, 7, 11, 23,0, 22, 12, 9, 16, 14, 5, 4, 2, 10], 26, 5, 2)\n",
    "rotor2= Rotor([1, 3, 5, 7, 9, 11, 2, 15, 17, 19, 23, 21, 25, 13, 24, 4, 8, 22, 6, 0, 10, 12, 20, 18, 16, 14], 22, 24, 4)\n",
    "rotor3 = Rotor([0, 9, 3, 10, 18, 8, 17, 20, 23, 1, 11, 7, 22, 19, 12, 2,16, 6, 25, 13, 15, 24, 5, 21, 14, 4], 5, 11, 24)\n",
    "reflektor = Reflector([24, 17, 20, 7, 16, 18, 11, 3, 15, 23, 13, 6, 14, 10, 12, 8, 4, 1, 5, 25, 2, 22, 21, 9, 0, 19])\n",
    "\n",
    "enigma_machine = Enigma([rotor1, rotor2, rotor3], reflektor)\n",
    "\n",
    "message = \"HELLO\"\n",
    "encrypted_message = enigma_machine.en_de_crypt(message)\n",
    "\n",
    "encrypted_message"
   ]
  },
  {
   "cell_type": "markdown",
   "metadata": {},
   "source": [
    "### 1. Bombe"
   ]
  },
  {
   "cell_type": "code",
   "execution_count": 15,
   "metadata": {},
   "outputs": [],
   "source": [
    "import threading\n",
    "from queue import Queue\n",
    "\n",
    "class Bombe:\n",
    "    def __init__(self, max_wheel_val, max_position_val, max_reflector_val, crib, encrypted_word):\n",
    "        self.max_wheel_val = max_wheel_val\n",
    "        self.max_position_val = max_position_val\n",
    "        self.max_reflector_val = max_reflector_val\n",
    "        self.crib = crib\n",
    "        self.encrypted_word = encrypted_word\n",
    "        self.tasks = Queue()\n",
    "        self.fill_tasks()\n",
    "\n",
    "    def fill_tasks(self):\n",
    "        for wheel1 in range(1, self.max_wheel_val):\n",
    "            for wheel2 in range(1, self.max_wheel_val):\n",
    "                for wheel3 in range(1, self.max_wheel_val):\n",
    "                    for position1 in range(1, self.max_position_val):\n",
    "                        for position2 in range(1, self.max_position_val):\n",
    "                            for position3 in range(1, self.max_position_val):\n",
    "                                for offset1 in range(1, self.max_position_val):\n",
    "                                    for offset2 in range(1, self.max_position_val):\n",
    "                                        for offset3 in range(1, self.max_position_val):\n",
    "                                            for reflector in range(1, self.max_reflector_val):\n",
    "                                                self.tasks.put(\n",
    "                                                    [wheel1, wheel2, wheel3, position1, position2, position3,\n",
    "                                                     offset1, offset2, offset3, reflector])\n",
    "\n",
    "    def get_se_germans(self):\n",
    "        try:\n",
    "            while not self.tasks.empty():\n",
    "                enigma_config = self.tasks.get()\n",
    "                wheel_1, wheel_2, wheel_3, position_1, position_2, position_3, offset1, offset2, offset3, reflector = enigma_config\n",
    "                threaded_enigma = Enigma.create([wheel_1, wheel_2, wheel_3], [position_1, position_2, position_3],\n",
    "                                                [offset1, offset2, offset3], reflector)\n",
    "                decrypted_text = threaded_enigma.en_de_crypt(self.encrypted_word)\n",
    "                if decrypted_text == self.crib:\n",
    "                    print(f\"Decrypted Message: {decrypted_text}\")\n",
    "                    print(f\"One possible setting of the Day: {enigma_config} go get those Fritzes!\\n\")\n",
    "                self.tasks.task_done()\n",
    "        except Exception as e:\n",
    "            print(e)\n",
    "\n",
    "    def crack(self):\n",
    "        for _ in range(16):\n",
    "            threading.Thread(target=self.get_se_germans).start()\n",
    "        self.tasks.join()"
   ]
  },
  {
   "cell_type": "code",
   "execution_count": 16,
   "metadata": {},
   "outputs": [],
   "source": [
    "\n",
    "bombe = Bombe(6, 26, 2, \"HELLO\", encrypted_message)"
   ]
  }
 ],
 "metadata": {
  "kernelspec": {
   "display_name": "ml2",
   "language": "python",
   "name": "python3"
  },
  "language_info": {
   "codemirror_mode": {
    "name": "ipython",
    "version": 3
   },
   "file_extension": ".py",
   "mimetype": "text/x-python",
   "name": "python",
   "nbconvert_exporter": "python",
   "pygments_lexer": "ipython3",
   "version": "3.12.2"
  }
 },
 "nbformat": 4,
 "nbformat_minor": 2
}
